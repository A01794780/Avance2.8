{
  "nbformat": 4,
  "nbformat_minor": 0,
  "metadata": {
    "colab": {
      "provenance": []
    },
    "kernelspec": {
      "name": "python3",
      "display_name": "Python 3"
    },
    "language_info": {
      "name": "python"
    }
  },
  "cells": [
    {
      "cell_type": "markdown",
      "source": [
        "#1 Instalación de librerías"
      ],
      "metadata": {
        "id": "snSZmAeF3cNz"
      }
    },
    {
      "cell_type": "code",
      "execution_count": null,
      "metadata": {
        "colab": {
          "base_uri": "https://localhost:8080/"
        },
        "id": "IUCq2BUG3O6w",
        "outputId": "0154e1d9-bf92-4ad8-e344-93b66ce603d7"
      },
      "outputs": [
        {
          "output_type": "stream",
          "name": "stdout",
          "text": [
            "Collecting PyPDF2\n",
            "  Downloading pypdf2-3.0.1-py3-none-any.whl.metadata (6.8 kB)\n",
            "Requirement already satisfied: nltk in /usr/local/lib/python3.11/dist-packages (3.9.1)\n",
            "Requirement already satisfied: wordcloud in /usr/local/lib/python3.11/dist-packages (1.9.4)\n",
            "Requirement already satisfied: click in /usr/local/lib/python3.11/dist-packages (from nltk) (8.1.8)\n",
            "Requirement already satisfied: joblib in /usr/local/lib/python3.11/dist-packages (from nltk) (1.4.2)\n",
            "Requirement already satisfied: regex>=2021.8.3 in /usr/local/lib/python3.11/dist-packages (from nltk) (2024.11.6)\n",
            "Requirement already satisfied: tqdm in /usr/local/lib/python3.11/dist-packages (from nltk) (4.67.1)\n",
            "Requirement already satisfied: numpy>=1.6.1 in /usr/local/lib/python3.11/dist-packages (from wordcloud) (2.0.2)\n",
            "Requirement already satisfied: pillow in /usr/local/lib/python3.11/dist-packages (from wordcloud) (11.2.1)\n",
            "Requirement already satisfied: matplotlib in /usr/local/lib/python3.11/dist-packages (from wordcloud) (3.10.0)\n",
            "Requirement already satisfied: contourpy>=1.0.1 in /usr/local/lib/python3.11/dist-packages (from matplotlib->wordcloud) (1.3.2)\n",
            "Requirement already satisfied: cycler>=0.10 in /usr/local/lib/python3.11/dist-packages (from matplotlib->wordcloud) (0.12.1)\n",
            "Requirement already satisfied: fonttools>=4.22.0 in /usr/local/lib/python3.11/dist-packages (from matplotlib->wordcloud) (4.57.0)\n",
            "Requirement already satisfied: kiwisolver>=1.3.1 in /usr/local/lib/python3.11/dist-packages (from matplotlib->wordcloud) (1.4.8)\n",
            "Requirement already satisfied: packaging>=20.0 in /usr/local/lib/python3.11/dist-packages (from matplotlib->wordcloud) (24.2)\n",
            "Requirement already satisfied: pyparsing>=2.3.1 in /usr/local/lib/python3.11/dist-packages (from matplotlib->wordcloud) (3.2.3)\n",
            "Requirement already satisfied: python-dateutil>=2.7 in /usr/local/lib/python3.11/dist-packages (from matplotlib->wordcloud) (2.9.0.post0)\n",
            "Requirement already satisfied: six>=1.5 in /usr/local/lib/python3.11/dist-packages (from python-dateutil>=2.7->matplotlib->wordcloud) (1.17.0)\n",
            "Downloading pypdf2-3.0.1-py3-none-any.whl (232 kB)\n",
            "\u001b[2K   \u001b[90m━━━━━━━━━━━━━━━━━━━━━━━━━━━━━━━━━━━━━━━━\u001b[0m \u001b[32m232.6/232.6 kB\u001b[0m \u001b[31m3.1 MB/s\u001b[0m eta \u001b[36m0:00:00\u001b[0m\n",
            "\u001b[?25hInstalling collected packages: PyPDF2\n",
            "Successfully installed PyPDF2-3.0.1\n",
            "Collecting dateparser\n",
            "  Downloading dateparser-1.2.1-py3-none-any.whl.metadata (29 kB)\n",
            "Requirement already satisfied: python-dateutil>=2.7.0 in /usr/local/lib/python3.11/dist-packages (from dateparser) (2.9.0.post0)\n",
            "Requirement already satisfied: pytz>=2024.2 in /usr/local/lib/python3.11/dist-packages (from dateparser) (2025.2)\n",
            "Requirement already satisfied: regex!=2019.02.19,!=2021.8.27,>=2015.06.24 in /usr/local/lib/python3.11/dist-packages (from dateparser) (2024.11.6)\n",
            "Requirement already satisfied: tzlocal>=0.2 in /usr/local/lib/python3.11/dist-packages (from dateparser) (5.3.1)\n",
            "Requirement already satisfied: six>=1.5 in /usr/local/lib/python3.11/dist-packages (from python-dateutil>=2.7.0->dateparser) (1.17.0)\n",
            "Downloading dateparser-1.2.1-py3-none-any.whl (295 kB)\n",
            "\u001b[2K   \u001b[90m━━━━━━━━━━━━━━━━━━━━━━━━━━━━━━━━━━━━━━━━\u001b[0m \u001b[32m295.7/295.7 kB\u001b[0m \u001b[31m6.4 MB/s\u001b[0m eta \u001b[36m0:00:00\u001b[0m\n",
            "\u001b[?25hInstalling collected packages: dateparser\n",
            "Successfully installed dateparser-1.2.1\n"
          ]
        }
      ],
      "source": [
        "!pip install PyPDF2 nltk wordcloud\n",
        "!pip install dateparser\n",
        "\n",
        "import os\n",
        "import re\n",
        "import string\n",
        "from collections import Counter\n",
        "import pandas as pd\n",
        "import nltk\n",
        "import dateparser\n",
        "import seaborn as sns\n",
        "import matplotlib.pyplot as plt\n",
        "import numpy as np\n",
        "from nltk.corpus import stopwords\n",
        "from PyPDF2 import PdfReader\n",
        "from nltk.tokenize import sent_tokenize, word_tokenize"
      ]
    },
    {
      "cell_type": "code",
      "source": [
        "# Descargar recursos de NLTK\n",
        "nltk.download(\"punkt\")\n",
        "nltk.download('punkt_tab')\n",
        "nltk.download(\"stopwords\")\n",
        "stop_words = set(stopwords.words('spanish'))"
      ],
      "metadata": {
        "colab": {
          "base_uri": "https://localhost:8080/"
        },
        "id": "xEX_5QiL4m1K",
        "outputId": "b3e34986-4a56-4241-b874-08460e2f39ee"
      },
      "execution_count": null,
      "outputs": [
        {
          "output_type": "stream",
          "name": "stderr",
          "text": [
            "[nltk_data] Downloading package punkt to /root/nltk_data...\n",
            "[nltk_data]   Unzipping tokenizers/punkt.zip.\n",
            "[nltk_data] Downloading package punkt_tab to /root/nltk_data...\n",
            "[nltk_data]   Unzipping tokenizers/punkt_tab.zip.\n",
            "[nltk_data] Downloading package stopwords to /root/nltk_data...\n",
            "[nltk_data]   Unzipping corpora/stopwords.zip.\n"
          ]
        }
      ]
    },
    {
      "cell_type": "markdown",
      "source": [
        "#2. Montar ruta de los archivos"
      ],
      "metadata": {
        "id": "7TYnkzn93m99"
      }
    },
    {
      "cell_type": "code",
      "source": [
        "from google.colab import drive\n",
        "drive.mount('/content/drive')"
      ],
      "metadata": {
        "colab": {
          "base_uri": "https://localhost:8080/"
        },
        "id": "BTJ9k8Fs3VRf",
        "outputId": "a54edb6f-2c6a-4446-d2d8-36061ca7403b"
      },
      "execution_count": null,
      "outputs": [
        {
          "output_type": "stream",
          "name": "stdout",
          "text": [
            "Mounted at /content/drive\n"
          ]
        }
      ]
    },
    {
      "cell_type": "code",
      "source": [
        "ruta_carpeta = \"/content/drive/MyDrive/Minutas Banco de Mexico\""
      ],
      "metadata": {
        "id": "FskmHEZZ4SiG"
      },
      "execution_count": null,
      "outputs": []
    },
    {
      "cell_type": "markdown",
      "source": [
        "#3. Funciones de procesamiento"
      ],
      "metadata": {
        "id": "48zyydVy4aMl"
      }
    },
    {
      "cell_type": "code",
      "source": [
        "def extraer_texto_pdf(ruta_pdf):\n",
        "    try:\n",
        "        reader = PdfReader(ruta_pdf)\n",
        "        text = \"\\n\".join([page.extract_text() for page in reader.pages if page.extract_text()])\n",
        "        return text.encode('utf-8').decode('utf-8')\n",
        "    except:\n",
        "        return \"\"\n",
        "\n",
        "def limpiar_texto(texto):\n",
        "    texto = texto.lower()\n",
        "    texto = re.sub(r'\\n+', ' ', texto)\n",
        "    texto = re.sub(rf\"[{re.escape(string.punctuation)}]\", '', texto)\n",
        "    return texto\n",
        "\n",
        "\n",
        "def limpiar_nombre(nombre):\n",
        "    nombre = nombre.lower()\n",
        "    nombre = nombre.strip().replace(\"{\", \"\").replace(\"}\", \"\").replace(\".pdf\", \"\")\n",
        "    return nombre\n",
        "\n",
        "def extraer_keywords(texto_limpio, top_n=5):\n",
        "    tokens = word_tokenize(texto_limpio)\n",
        "    tokens_filtrados = [t for t in tokens if t not in stop_words and len(t) > 2]\n",
        "    frecuencias = Counter(tokens_filtrados)\n",
        "    return \", \".join([pal for pal, _ in frecuencias.most_common(top_n)])\n",
        "\n",
        "def numero_minuta(texto_portada):\n",
        "    match = re.search(r'\\bminuta\\s+número\\s+(\\d+)', texto_portada.lower())\n",
        "    if match:\n",
        "        return int(match.group(1))\n",
        "    return 0\n",
        "\n",
        "def extraer_fecha_desde_texto(texto_portada):\n",
        "    patron = r\"anunciada el (\\d{1,2} de [a-zA-Z]+ de \\d{4})\"\n",
        "    coincidencia = re.search(patron, texto_portada.lower())\n",
        "\n",
        "    if coincidencia:\n",
        "        fecha_str = coincidencia.group(1)\n",
        "        fecha = dateparser.parse(fecha_str, languages=[\"es\"])\n",
        "        if fecha:\n",
        "            return fecha.strftime(\"%Y-%m-%d\")\n",
        "    else:\n",
        "        return None\n",
        "\n"
      ],
      "metadata": {
        "id": "jJMrJV974dSD"
      },
      "execution_count": null,
      "outputs": []
    },
    {
      "cell_type": "markdown",
      "source": [
        "#4. Leer los archivos"
      ],
      "metadata": {
        "id": "5rbfUzlC4umx"
      }
    },
    {
      "cell_type": "code",
      "source": [
        "registros = []\n",
        "#max = 2 #Valor para pruebas\n",
        "for archivo in os.listdir(ruta_carpeta):\n",
        "    if archivo.endswith(\".pdf\"):\n",
        "        ruta = os.path.join(ruta_carpeta, archivo)\n",
        "        texto = extraer_texto_pdf(ruta)\n",
        "        texto_limpio = limpiar_texto(texto)\n",
        "\n",
        "        num_palabras = len(word_tokenize(texto_limpio))\n",
        "        num_oraciones = len(sent_tokenize(texto))\n",
        "\n",
        "        fecha = \"desconocida\"\n",
        "        decision = \"desconocida\"\n",
        "\n",
        "        palabras_clave = extraer_keywords(texto_limpio)\n",
        "\n",
        "        registros.append({\n",
        "            \"ID\": limpiar_nombre(archivo),\n",
        "            \"Numero\" : numero_minuta(texto_limpio[:200]),\n",
        "            \"Fecha\": extraer_fecha_desde_texto(texto_limpio[:200]),\n",
        "            \"Texto limpio\": texto_limpio,\n",
        "            \"Numero palabras\": num_palabras,\n",
        "            \"Numero oraciones\": num_oraciones,\n",
        "            \"Palabras clave dominantes\": palabras_clave\n",
        "        })\n",
        "        \"\"\"\n",
        "        if max!= None & (len(registros) > max ):\n",
        "            break\n",
        "            \"\"\""
      ],
      "metadata": {
        "id": "HCWNpfKE4t2W"
      },
      "execution_count": null,
      "outputs": []
    },
    {
      "cell_type": "markdown",
      "source": [
        "# 5. Análisis exploratorio"
      ],
      "metadata": {
        "id": "HHY2lAimAPks"
      }
    },
    {
      "cell_type": "markdown",
      "source": [
        "## Datos generales"
      ],
      "metadata": {
        "id": "3sqHvL4dK4a4"
      }
    },
    {
      "cell_type": "code",
      "source": [
        "df = pd.DataFrame(registros)\n",
        "df.head()"
      ],
      "metadata": {
        "colab": {
          "base_uri": "https://localhost:8080/",
          "height": 310
        },
        "id": "Umb0-0GGAU0Y",
        "outputId": "59316145-471c-46eb-c2c7-ce87b3519b3e"
      },
      "execution_count": null,
      "outputs": [
        {
          "output_type": "execute_result",
          "data": {
            "text/plain": [
              "                                     ID  Numero       Fecha  \\\n",
              "0  df53bdc1-88ec-276e-718c-aec8de5282b4     112  2024-11-14   \n",
              "1  209f9f3a-d49b-51d1-0460-9b3ea1d9ebab     111        None   \n",
              "2  c2f0671d-b457-a331-aded-f498f00f0385     110  2024-08-08   \n",
              "3  f13fd839-189c-cf58-bf54-025b6ffe559f     109  2024-06-27   \n",
              "4  718151b0-83f7-7381-35e1-592a83d30e6e     108  2024-05-09   \n",
              "\n",
              "                                        Texto limpio  Numero palabras  \\\n",
              "0  minuta número 112 reunión de la junta de gobie...            16032   \n",
              "1  minuta número 111 reunión de la junta de gobie...            15821   \n",
              "2  minuta número 110 reunión de la junta de gobie...            16465   \n",
              "3  minuta número 109 reunión de la junta de gobie...            15932   \n",
              "4  minuta número 108 reunión de la junta de gobie...            16113   \n",
              "\n",
              "   Numero oraciones                        Palabras clave dominantes  \n",
              "0               654  inflación, subyacente, tasa, monetaria, gráfica  \n",
              "1               626     inflación, tasa, 2024, monetaria, subyacente  \n",
              "2               646     inflación, tasa, subyacente, 2024, monetaria  \n",
              "3               615          inflación, tasa, monetaria, tasas, 2024  \n",
              "4               628        inflación, tasa, monetaria, 2024, gráfica  "
            ],
            "text/html": [
              "\n",
              "  <div id=\"df-021fbe44-ef58-4515-b576-6992ba41f8c9\" class=\"colab-df-container\">\n",
              "    <div>\n",
              "<style scoped>\n",
              "    .dataframe tbody tr th:only-of-type {\n",
              "        vertical-align: middle;\n",
              "    }\n",
              "\n",
              "    .dataframe tbody tr th {\n",
              "        vertical-align: top;\n",
              "    }\n",
              "\n",
              "    .dataframe thead th {\n",
              "        text-align: right;\n",
              "    }\n",
              "</style>\n",
              "<table border=\"1\" class=\"dataframe\">\n",
              "  <thead>\n",
              "    <tr style=\"text-align: right;\">\n",
              "      <th></th>\n",
              "      <th>ID</th>\n",
              "      <th>Numero</th>\n",
              "      <th>Fecha</th>\n",
              "      <th>Texto limpio</th>\n",
              "      <th>Numero palabras</th>\n",
              "      <th>Numero oraciones</th>\n",
              "      <th>Palabras clave dominantes</th>\n",
              "    </tr>\n",
              "  </thead>\n",
              "  <tbody>\n",
              "    <tr>\n",
              "      <th>0</th>\n",
              "      <td>df53bdc1-88ec-276e-718c-aec8de5282b4</td>\n",
              "      <td>112</td>\n",
              "      <td>2024-11-14</td>\n",
              "      <td>minuta número 112 reunión de la junta de gobie...</td>\n",
              "      <td>16032</td>\n",
              "      <td>654</td>\n",
              "      <td>inflación, subyacente, tasa, monetaria, gráfica</td>\n",
              "    </tr>\n",
              "    <tr>\n",
              "      <th>1</th>\n",
              "      <td>209f9f3a-d49b-51d1-0460-9b3ea1d9ebab</td>\n",
              "      <td>111</td>\n",
              "      <td>None</td>\n",
              "      <td>minuta número 111 reunión de la junta de gobie...</td>\n",
              "      <td>15821</td>\n",
              "      <td>626</td>\n",
              "      <td>inflación, tasa, 2024, monetaria, subyacente</td>\n",
              "    </tr>\n",
              "    <tr>\n",
              "      <th>2</th>\n",
              "      <td>c2f0671d-b457-a331-aded-f498f00f0385</td>\n",
              "      <td>110</td>\n",
              "      <td>2024-08-08</td>\n",
              "      <td>minuta número 110 reunión de la junta de gobie...</td>\n",
              "      <td>16465</td>\n",
              "      <td>646</td>\n",
              "      <td>inflación, tasa, subyacente, 2024, monetaria</td>\n",
              "    </tr>\n",
              "    <tr>\n",
              "      <th>3</th>\n",
              "      <td>f13fd839-189c-cf58-bf54-025b6ffe559f</td>\n",
              "      <td>109</td>\n",
              "      <td>2024-06-27</td>\n",
              "      <td>minuta número 109 reunión de la junta de gobie...</td>\n",
              "      <td>15932</td>\n",
              "      <td>615</td>\n",
              "      <td>inflación, tasa, monetaria, tasas, 2024</td>\n",
              "    </tr>\n",
              "    <tr>\n",
              "      <th>4</th>\n",
              "      <td>718151b0-83f7-7381-35e1-592a83d30e6e</td>\n",
              "      <td>108</td>\n",
              "      <td>2024-05-09</td>\n",
              "      <td>minuta número 108 reunión de la junta de gobie...</td>\n",
              "      <td>16113</td>\n",
              "      <td>628</td>\n",
              "      <td>inflación, tasa, monetaria, 2024, gráfica</td>\n",
              "    </tr>\n",
              "  </tbody>\n",
              "</table>\n",
              "</div>\n",
              "    <div class=\"colab-df-buttons\">\n",
              "\n",
              "  <div class=\"colab-df-container\">\n",
              "    <button class=\"colab-df-convert\" onclick=\"convertToInteractive('df-021fbe44-ef58-4515-b576-6992ba41f8c9')\"\n",
              "            title=\"Convert this dataframe to an interactive table.\"\n",
              "            style=\"display:none;\">\n",
              "\n",
              "  <svg xmlns=\"http://www.w3.org/2000/svg\" height=\"24px\" viewBox=\"0 -960 960 960\">\n",
              "    <path d=\"M120-120v-720h720v720H120Zm60-500h600v-160H180v160Zm220 220h160v-160H400v160Zm0 220h160v-160H400v160ZM180-400h160v-160H180v160Zm440 0h160v-160H620v160ZM180-180h160v-160H180v160Zm440 0h160v-160H620v160Z\"/>\n",
              "  </svg>\n",
              "    </button>\n",
              "\n",
              "  <style>\n",
              "    .colab-df-container {\n",
              "      display:flex;\n",
              "      gap: 12px;\n",
              "    }\n",
              "\n",
              "    .colab-df-convert {\n",
              "      background-color: #E8F0FE;\n",
              "      border: none;\n",
              "      border-radius: 50%;\n",
              "      cursor: pointer;\n",
              "      display: none;\n",
              "      fill: #1967D2;\n",
              "      height: 32px;\n",
              "      padding: 0 0 0 0;\n",
              "      width: 32px;\n",
              "    }\n",
              "\n",
              "    .colab-df-convert:hover {\n",
              "      background-color: #E2EBFA;\n",
              "      box-shadow: 0px 1px 2px rgba(60, 64, 67, 0.3), 0px 1px 3px 1px rgba(60, 64, 67, 0.15);\n",
              "      fill: #174EA6;\n",
              "    }\n",
              "\n",
              "    .colab-df-buttons div {\n",
              "      margin-bottom: 4px;\n",
              "    }\n",
              "\n",
              "    [theme=dark] .colab-df-convert {\n",
              "      background-color: #3B4455;\n",
              "      fill: #D2E3FC;\n",
              "    }\n",
              "\n",
              "    [theme=dark] .colab-df-convert:hover {\n",
              "      background-color: #434B5C;\n",
              "      box-shadow: 0px 1px 3px 1px rgba(0, 0, 0, 0.15);\n",
              "      filter: drop-shadow(0px 1px 2px rgba(0, 0, 0, 0.3));\n",
              "      fill: #FFFFFF;\n",
              "    }\n",
              "  </style>\n",
              "\n",
              "    <script>\n",
              "      const buttonEl =\n",
              "        document.querySelector('#df-021fbe44-ef58-4515-b576-6992ba41f8c9 button.colab-df-convert');\n",
              "      buttonEl.style.display =\n",
              "        google.colab.kernel.accessAllowed ? 'block' : 'none';\n",
              "\n",
              "      async function convertToInteractive(key) {\n",
              "        const element = document.querySelector('#df-021fbe44-ef58-4515-b576-6992ba41f8c9');\n",
              "        const dataTable =\n",
              "          await google.colab.kernel.invokeFunction('convertToInteractive',\n",
              "                                                    [key], {});\n",
              "        if (!dataTable) return;\n",
              "\n",
              "        const docLinkHtml = 'Like what you see? Visit the ' +\n",
              "          '<a target=\"_blank\" href=https://colab.research.google.com/notebooks/data_table.ipynb>data table notebook</a>'\n",
              "          + ' to learn more about interactive tables.';\n",
              "        element.innerHTML = '';\n",
              "        dataTable['output_type'] = 'display_data';\n",
              "        await google.colab.output.renderOutput(dataTable, element);\n",
              "        const docLink = document.createElement('div');\n",
              "        docLink.innerHTML = docLinkHtml;\n",
              "        element.appendChild(docLink);\n",
              "      }\n",
              "    </script>\n",
              "  </div>\n",
              "\n",
              "\n",
              "    <div id=\"df-9b9cd1d0-dcbb-475f-985a-47aeeadb4953\">\n",
              "      <button class=\"colab-df-quickchart\" onclick=\"quickchart('df-9b9cd1d0-dcbb-475f-985a-47aeeadb4953')\"\n",
              "                title=\"Suggest charts\"\n",
              "                style=\"display:none;\">\n",
              "\n",
              "<svg xmlns=\"http://www.w3.org/2000/svg\" height=\"24px\"viewBox=\"0 0 24 24\"\n",
              "     width=\"24px\">\n",
              "    <g>\n",
              "        <path d=\"M19 3H5c-1.1 0-2 .9-2 2v14c0 1.1.9 2 2 2h14c1.1 0 2-.9 2-2V5c0-1.1-.9-2-2-2zM9 17H7v-7h2v7zm4 0h-2V7h2v10zm4 0h-2v-4h2v4z\"/>\n",
              "    </g>\n",
              "</svg>\n",
              "      </button>\n",
              "\n",
              "<style>\n",
              "  .colab-df-quickchart {\n",
              "      --bg-color: #E8F0FE;\n",
              "      --fill-color: #1967D2;\n",
              "      --hover-bg-color: #E2EBFA;\n",
              "      --hover-fill-color: #174EA6;\n",
              "      --disabled-fill-color: #AAA;\n",
              "      --disabled-bg-color: #DDD;\n",
              "  }\n",
              "\n",
              "  [theme=dark] .colab-df-quickchart {\n",
              "      --bg-color: #3B4455;\n",
              "      --fill-color: #D2E3FC;\n",
              "      --hover-bg-color: #434B5C;\n",
              "      --hover-fill-color: #FFFFFF;\n",
              "      --disabled-bg-color: #3B4455;\n",
              "      --disabled-fill-color: #666;\n",
              "  }\n",
              "\n",
              "  .colab-df-quickchart {\n",
              "    background-color: var(--bg-color);\n",
              "    border: none;\n",
              "    border-radius: 50%;\n",
              "    cursor: pointer;\n",
              "    display: none;\n",
              "    fill: var(--fill-color);\n",
              "    height: 32px;\n",
              "    padding: 0;\n",
              "    width: 32px;\n",
              "  }\n",
              "\n",
              "  .colab-df-quickchart:hover {\n",
              "    background-color: var(--hover-bg-color);\n",
              "    box-shadow: 0 1px 2px rgba(60, 64, 67, 0.3), 0 1px 3px 1px rgba(60, 64, 67, 0.15);\n",
              "    fill: var(--button-hover-fill-color);\n",
              "  }\n",
              "\n",
              "  .colab-df-quickchart-complete:disabled,\n",
              "  .colab-df-quickchart-complete:disabled:hover {\n",
              "    background-color: var(--disabled-bg-color);\n",
              "    fill: var(--disabled-fill-color);\n",
              "    box-shadow: none;\n",
              "  }\n",
              "\n",
              "  .colab-df-spinner {\n",
              "    border: 2px solid var(--fill-color);\n",
              "    border-color: transparent;\n",
              "    border-bottom-color: var(--fill-color);\n",
              "    animation:\n",
              "      spin 1s steps(1) infinite;\n",
              "  }\n",
              "\n",
              "  @keyframes spin {\n",
              "    0% {\n",
              "      border-color: transparent;\n",
              "      border-bottom-color: var(--fill-color);\n",
              "      border-left-color: var(--fill-color);\n",
              "    }\n",
              "    20% {\n",
              "      border-color: transparent;\n",
              "      border-left-color: var(--fill-color);\n",
              "      border-top-color: var(--fill-color);\n",
              "    }\n",
              "    30% {\n",
              "      border-color: transparent;\n",
              "      border-left-color: var(--fill-color);\n",
              "      border-top-color: var(--fill-color);\n",
              "      border-right-color: var(--fill-color);\n",
              "    }\n",
              "    40% {\n",
              "      border-color: transparent;\n",
              "      border-right-color: var(--fill-color);\n",
              "      border-top-color: var(--fill-color);\n",
              "    }\n",
              "    60% {\n",
              "      border-color: transparent;\n",
              "      border-right-color: var(--fill-color);\n",
              "    }\n",
              "    80% {\n",
              "      border-color: transparent;\n",
              "      border-right-color: var(--fill-color);\n",
              "      border-bottom-color: var(--fill-color);\n",
              "    }\n",
              "    90% {\n",
              "      border-color: transparent;\n",
              "      border-bottom-color: var(--fill-color);\n",
              "    }\n",
              "  }\n",
              "</style>\n",
              "\n",
              "      <script>\n",
              "        async function quickchart(key) {\n",
              "          const quickchartButtonEl =\n",
              "            document.querySelector('#' + key + ' button');\n",
              "          quickchartButtonEl.disabled = true;  // To prevent multiple clicks.\n",
              "          quickchartButtonEl.classList.add('colab-df-spinner');\n",
              "          try {\n",
              "            const charts = await google.colab.kernel.invokeFunction(\n",
              "                'suggestCharts', [key], {});\n",
              "          } catch (error) {\n",
              "            console.error('Error during call to suggestCharts:', error);\n",
              "          }\n",
              "          quickchartButtonEl.classList.remove('colab-df-spinner');\n",
              "          quickchartButtonEl.classList.add('colab-df-quickchart-complete');\n",
              "        }\n",
              "        (() => {\n",
              "          let quickchartButtonEl =\n",
              "            document.querySelector('#df-9b9cd1d0-dcbb-475f-985a-47aeeadb4953 button');\n",
              "          quickchartButtonEl.style.display =\n",
              "            google.colab.kernel.accessAllowed ? 'block' : 'none';\n",
              "        })();\n",
              "      </script>\n",
              "    </div>\n",
              "\n",
              "    </div>\n",
              "  </div>\n"
            ],
            "application/vnd.google.colaboratory.intrinsic+json": {
              "type": "dataframe",
              "variable_name": "df",
              "summary": "{\n  \"name\": \"df\",\n  \"rows\": 114,\n  \"fields\": [\n    {\n      \"column\": \"ID\",\n      \"properties\": {\n        \"dtype\": \"string\",\n        \"num_unique_values\": 114,\n        \"samples\": [\n          \"52cdaf65-32b0-5b19-a12a-3b73a639a1a2\",\n          \"718151b0-83f7-7381-35e1-592a83d30e6e\",\n          \"b272df7f-5d8b-16a0-9c8e-ecd755c73721\"\n        ],\n        \"semantic_type\": \"\",\n        \"description\": \"\"\n      }\n    },\n    {\n      \"column\": \"Numero\",\n      \"properties\": {\n        \"dtype\": \"number\",\n        \"std\": 33,\n        \"min\": 1,\n        \"max\": 115,\n        \"num_unique_values\": 114,\n        \"samples\": [\n          32,\n          108,\n          72\n        ],\n        \"semantic_type\": \"\",\n        \"description\": \"\"\n      }\n    },\n    {\n      \"column\": \"Fecha\",\n      \"properties\": {\n        \"dtype\": \"object\",\n        \"num_unique_values\": 105,\n        \"samples\": [\n          \"2020-08-13\",\n          \"2015-09-21\",\n          \"2015-10-29\"\n        ],\n        \"semantic_type\": \"\",\n        \"description\": \"\"\n      }\n    },\n    {\n      \"column\": \"Texto limpio\",\n      \"properties\": {\n        \"dtype\": \"string\",\n        \"num_unique_values\": 114,\n        \"samples\": [\n          \"minuta n\\u00famero 32 reuni\\u00f3n de la junta de gobierno del banco de m\\u00e9xico con motivo de la decisi\\u00f3n de pol\\u00edtica monetaria anunciada el 5 de diciembre de 2014   2   1 lugar fecha y asistentes    11 lugar av cinco de mayo n\\u00famero 2 5o piso   col centro ciudad de m\\u00e9xico distrito federal     12 fecha de la sesi\\u00f3n de la junta de gobierno  4 de diciembre de 2014     13 asistentes     dr agust\\u00edn guillermo carstens carstens  gobernador y presidente de la sesi\\u00f3n   lic roberto del cueto legaspi subgobernador  l...\",\n          \"minuta n\\u00famero 108 reuni\\u00f3n de la junta de gobierno del banco de m\\u00e9xico con mo\\ufffdvo de la decisi\\u00f3n de pol\\u00ed\\ufffdca monetaria anunciada el 9 de mayo de 2024 1   1 lugar fecha y asistentes     11 lugar  reuni\\u00f3n celebrada por enlaces  virtuales     12 fecha de la sesi\\u00f3n de la junta de  gobierno  08 de mayo de 2024     13 asistentes   \\u2022 victoria rodr\\u00edguez ceja gobernadora   \\u2022 galia borja g\\u00f3mez subgobernadora   \\u2022 irene espinosa cantellano subgobernadora   \\u2022 jonathan ernest heath constable  subgobernador   \\u2022 o...\",\n          \"minuta n\\u00famero 72 reuni\\u00f3n de la junta de gobierno del banco de m\\u00e9xico con motivo de la decisi\\u00f3n de pol\\u00edtica monetaria anunciada el 19 de diciembre de 2019 1 1 lugar fecha y asistentes     11 lugar  av cinco de mayo n\\u00famero 2 5o piso  col centro ciudad de m\\u00e9xico   12 fecha de la sesi\\u00f3n de la junta de gobierno   18 de diciembre de 2019   13 asistentes   alejandro d\\u00edaz de le\\u00f3n carrillo gobernador   irene espinosa cantellano subgobernadora   gerardo esquivel hern\\u00e1ndez subgobernador   javier eduardo gu...\"\n        ],\n        \"semantic_type\": \"\",\n        \"description\": \"\"\n      }\n    },\n    {\n      \"column\": \"Numero palabras\",\n      \"properties\": {\n        \"dtype\": \"number\",\n        \"std\": 2446,\n        \"min\": 5734,\n        \"max\": 17493,\n        \"num_unique_values\": 112,\n        \"samples\": [\n          15799,\n          11165,\n          16113\n        ],\n        \"semantic_type\": \"\",\n        \"description\": \"\"\n      }\n    },\n    {\n      \"column\": \"Numero oraciones\",\n      \"properties\": {\n        \"dtype\": \"number\",\n        \"std\": 104,\n        \"min\": 6,\n        \"max\": 654,\n        \"num_unique_values\": 99,\n        \"samples\": [\n          396,\n          528,\n          344\n        ],\n        \"semantic_type\": \"\",\n        \"description\": \"\"\n      }\n    },\n    {\n      \"column\": \"Palabras clave dominantes\",\n      \"properties\": {\n        \"dtype\": \"string\",\n        \"num_unique_values\": 110,\n        \"samples\": [\n          \"inflaci\\u00f3n, mayor\\u00eda, crecimiento, ciento, precios\",\n          \"inflaci\\u00f3n, tasa, mayor\\u00eda, 2023, gr\\u00e1fica\",\n          \"inflaci\\u00f3n, tasa, monetaria, 2024, gr\\u00e1fica\"\n        ],\n        \"semantic_type\": \"\",\n        \"description\": \"\"\n      }\n    }\n  ]\n}"
            }
          },
          "metadata": {},
          "execution_count": 11
        }
      ]
    },
    {
      "cell_type": "code",
      "source": [
        "# Inspeccionando las columnas\n",
        "df.info()"
      ],
      "metadata": {
        "colab": {
          "base_uri": "https://localhost:8080/"
        },
        "id": "3DYItN8oI7R4",
        "outputId": "f91a3a7a-8103-436c-f12b-4de8e85bf49a"
      },
      "execution_count": null,
      "outputs": [
        {
          "output_type": "stream",
          "name": "stdout",
          "text": [
            "<class 'pandas.core.frame.DataFrame'>\n",
            "RangeIndex: 114 entries, 0 to 113\n",
            "Data columns (total 7 columns):\n",
            " #   Column                     Non-Null Count  Dtype \n",
            "---  ------                     --------------  ----- \n",
            " 0   ID                         114 non-null    object\n",
            " 1   Numero                     114 non-null    int64 \n",
            " 2   Fecha                      105 non-null    object\n",
            " 3   Texto limpio               114 non-null    object\n",
            " 4   Numero palabras            114 non-null    int64 \n",
            " 5   Numero oraciones           114 non-null    int64 \n",
            " 6   Palabras clave dominantes  114 non-null    object\n",
            "dtypes: int64(3), object(4)\n",
            "memory usage: 6.4+ KB\n"
          ]
        }
      ]
    },
    {
      "cell_type": "markdown",
      "source": [
        "## Valores faltantes"
      ],
      "metadata": {
        "id": "01qDjUV8K7E1"
      }
    },
    {
      "cell_type": "code",
      "source": [
        "# Calculando porcentajes de valores faltantes\n",
        "df.isna().sum() / len(df)"
      ],
      "metadata": {
        "colab": {
          "base_uri": "https://localhost:8080/",
          "height": 304
        },
        "id": "p88RSWq8JZnl",
        "outputId": "3b4d2d1a-67d8-4102-c1ee-bf95efbada5e"
      },
      "execution_count": null,
      "outputs": [
        {
          "output_type": "execute_result",
          "data": {
            "text/plain": [
              "ID                           0.000000\n",
              "Numero                       0.000000\n",
              "Fecha                        0.078947\n",
              "Texto limpio                 0.000000\n",
              "Numero palabras              0.000000\n",
              "Numero oraciones             0.000000\n",
              "Palabras clave dominantes    0.000000\n",
              "dtype: float64"
            ],
            "text/html": [
              "<div>\n",
              "<style scoped>\n",
              "    .dataframe tbody tr th:only-of-type {\n",
              "        vertical-align: middle;\n",
              "    }\n",
              "\n",
              "    .dataframe tbody tr th {\n",
              "        vertical-align: top;\n",
              "    }\n",
              "\n",
              "    .dataframe thead th {\n",
              "        text-align: right;\n",
              "    }\n",
              "</style>\n",
              "<table border=\"1\" class=\"dataframe\">\n",
              "  <thead>\n",
              "    <tr style=\"text-align: right;\">\n",
              "      <th></th>\n",
              "      <th>0</th>\n",
              "    </tr>\n",
              "  </thead>\n",
              "  <tbody>\n",
              "    <tr>\n",
              "      <th>ID</th>\n",
              "      <td>0.000000</td>\n",
              "    </tr>\n",
              "    <tr>\n",
              "      <th>Numero</th>\n",
              "      <td>0.000000</td>\n",
              "    </tr>\n",
              "    <tr>\n",
              "      <th>Fecha</th>\n",
              "      <td>0.078947</td>\n",
              "    </tr>\n",
              "    <tr>\n",
              "      <th>Texto limpio</th>\n",
              "      <td>0.000000</td>\n",
              "    </tr>\n",
              "    <tr>\n",
              "      <th>Numero palabras</th>\n",
              "      <td>0.000000</td>\n",
              "    </tr>\n",
              "    <tr>\n",
              "      <th>Numero oraciones</th>\n",
              "      <td>0.000000</td>\n",
              "    </tr>\n",
              "    <tr>\n",
              "      <th>Palabras clave dominantes</th>\n",
              "      <td>0.000000</td>\n",
              "    </tr>\n",
              "  </tbody>\n",
              "</table>\n",
              "</div><br><label><b>dtype:</b> float64</label>"
            ]
          },
          "metadata": {},
          "execution_count": 13
        }
      ]
    },
    {
      "cell_type": "markdown",
      "source": [
        "Se observa que el único dato que no se pudo extrar por completo por ahora es la fecha de la minuta, apesar de que cada minuta cuenta con su fecha en el texto."
      ],
      "metadata": {
        "id": "6-vVWzQ1Tdkp"
      }
    },
    {
      "cell_type": "markdown",
      "source": [
        "## Análisis de variables numéricas"
      ],
      "metadata": {
        "id": "JnDKnkvLK9HX"
      }
    },
    {
      "cell_type": "code",
      "source": [
        "# Tendencia central (media, mediana), Dispersión (min, max, desviación estándar y cuartiles)\n",
        "df.describe()"
      ],
      "metadata": {
        "colab": {
          "base_uri": "https://localhost:8080/",
          "height": 300
        },
        "id": "rBBOTQUCJs5F",
        "outputId": "d28d4f75-72a5-4cb9-8243-f5cb30953782"
      },
      "execution_count": null,
      "outputs": [
        {
          "output_type": "execute_result",
          "data": {
            "text/plain": [
              "           Numero  Numero palabras  Numero oraciones\n",
              "count  114.000000       114.000000        114.000000\n",
              "mean    57.517544     13315.622807        455.991228\n",
              "std     33.083224      2446.794505        104.969738\n",
              "min      1.000000      5734.000000          6.000000\n",
              "25%     29.250000     11212.000000        373.000000\n",
              "50%     57.500000     13785.500000        458.500000\n",
              "75%     85.750000     15337.000000        532.500000\n",
              "max    115.000000     17493.000000        654.000000"
            ],
            "text/html": [
              "\n",
              "  <div id=\"df-ca24b052-2d8e-4745-b01e-e38fc52c14e6\" class=\"colab-df-container\">\n",
              "    <div>\n",
              "<style scoped>\n",
              "    .dataframe tbody tr th:only-of-type {\n",
              "        vertical-align: middle;\n",
              "    }\n",
              "\n",
              "    .dataframe tbody tr th {\n",
              "        vertical-align: top;\n",
              "    }\n",
              "\n",
              "    .dataframe thead th {\n",
              "        text-align: right;\n",
              "    }\n",
              "</style>\n",
              "<table border=\"1\" class=\"dataframe\">\n",
              "  <thead>\n",
              "    <tr style=\"text-align: right;\">\n",
              "      <th></th>\n",
              "      <th>Numero</th>\n",
              "      <th>Numero palabras</th>\n",
              "      <th>Numero oraciones</th>\n",
              "    </tr>\n",
              "  </thead>\n",
              "  <tbody>\n",
              "    <tr>\n",
              "      <th>count</th>\n",
              "      <td>114.000000</td>\n",
              "      <td>114.000000</td>\n",
              "      <td>114.000000</td>\n",
              "    </tr>\n",
              "    <tr>\n",
              "      <th>mean</th>\n",
              "      <td>57.517544</td>\n",
              "      <td>13315.622807</td>\n",
              "      <td>455.991228</td>\n",
              "    </tr>\n",
              "    <tr>\n",
              "      <th>std</th>\n",
              "      <td>33.083224</td>\n",
              "      <td>2446.794505</td>\n",
              "      <td>104.969738</td>\n",
              "    </tr>\n",
              "    <tr>\n",
              "      <th>min</th>\n",
              "      <td>1.000000</td>\n",
              "      <td>5734.000000</td>\n",
              "      <td>6.000000</td>\n",
              "    </tr>\n",
              "    <tr>\n",
              "      <th>25%</th>\n",
              "      <td>29.250000</td>\n",
              "      <td>11212.000000</td>\n",
              "      <td>373.000000</td>\n",
              "    </tr>\n",
              "    <tr>\n",
              "      <th>50%</th>\n",
              "      <td>57.500000</td>\n",
              "      <td>13785.500000</td>\n",
              "      <td>458.500000</td>\n",
              "    </tr>\n",
              "    <tr>\n",
              "      <th>75%</th>\n",
              "      <td>85.750000</td>\n",
              "      <td>15337.000000</td>\n",
              "      <td>532.500000</td>\n",
              "    </tr>\n",
              "    <tr>\n",
              "      <th>max</th>\n",
              "      <td>115.000000</td>\n",
              "      <td>17493.000000</td>\n",
              "      <td>654.000000</td>\n",
              "    </tr>\n",
              "  </tbody>\n",
              "</table>\n",
              "</div>\n",
              "    <div class=\"colab-df-buttons\">\n",
              "\n",
              "  <div class=\"colab-df-container\">\n",
              "    <button class=\"colab-df-convert\" onclick=\"convertToInteractive('df-ca24b052-2d8e-4745-b01e-e38fc52c14e6')\"\n",
              "            title=\"Convert this dataframe to an interactive table.\"\n",
              "            style=\"display:none;\">\n",
              "\n",
              "  <svg xmlns=\"http://www.w3.org/2000/svg\" height=\"24px\" viewBox=\"0 -960 960 960\">\n",
              "    <path d=\"M120-120v-720h720v720H120Zm60-500h600v-160H180v160Zm220 220h160v-160H400v160Zm0 220h160v-160H400v160ZM180-400h160v-160H180v160Zm440 0h160v-160H620v160ZM180-180h160v-160H180v160Zm440 0h160v-160H620v160Z\"/>\n",
              "  </svg>\n",
              "    </button>\n",
              "\n",
              "  <style>\n",
              "    .colab-df-container {\n",
              "      display:flex;\n",
              "      gap: 12px;\n",
              "    }\n",
              "\n",
              "    .colab-df-convert {\n",
              "      background-color: #E8F0FE;\n",
              "      border: none;\n",
              "      border-radius: 50%;\n",
              "      cursor: pointer;\n",
              "      display: none;\n",
              "      fill: #1967D2;\n",
              "      height: 32px;\n",
              "      padding: 0 0 0 0;\n",
              "      width: 32px;\n",
              "    }\n",
              "\n",
              "    .colab-df-convert:hover {\n",
              "      background-color: #E2EBFA;\n",
              "      box-shadow: 0px 1px 2px rgba(60, 64, 67, 0.3), 0px 1px 3px 1px rgba(60, 64, 67, 0.15);\n",
              "      fill: #174EA6;\n",
              "    }\n",
              "\n",
              "    .colab-df-buttons div {\n",
              "      margin-bottom: 4px;\n",
              "    }\n",
              "\n",
              "    [theme=dark] .colab-df-convert {\n",
              "      background-color: #3B4455;\n",
              "      fill: #D2E3FC;\n",
              "    }\n",
              "\n",
              "    [theme=dark] .colab-df-convert:hover {\n",
              "      background-color: #434B5C;\n",
              "      box-shadow: 0px 1px 3px 1px rgba(0, 0, 0, 0.15);\n",
              "      filter: drop-shadow(0px 1px 2px rgba(0, 0, 0, 0.3));\n",
              "      fill: #FFFFFF;\n",
              "    }\n",
              "  </style>\n",
              "\n",
              "    <script>\n",
              "      const buttonEl =\n",
              "        document.querySelector('#df-ca24b052-2d8e-4745-b01e-e38fc52c14e6 button.colab-df-convert');\n",
              "      buttonEl.style.display =\n",
              "        google.colab.kernel.accessAllowed ? 'block' : 'none';\n",
              "\n",
              "      async function convertToInteractive(key) {\n",
              "        const element = document.querySelector('#df-ca24b052-2d8e-4745-b01e-e38fc52c14e6');\n",
              "        const dataTable =\n",
              "          await google.colab.kernel.invokeFunction('convertToInteractive',\n",
              "                                                    [key], {});\n",
              "        if (!dataTable) return;\n",
              "\n",
              "        const docLinkHtml = 'Like what you see? Visit the ' +\n",
              "          '<a target=\"_blank\" href=https://colab.research.google.com/notebooks/data_table.ipynb>data table notebook</a>'\n",
              "          + ' to learn more about interactive tables.';\n",
              "        element.innerHTML = '';\n",
              "        dataTable['output_type'] = 'display_data';\n",
              "        await google.colab.output.renderOutput(dataTable, element);\n",
              "        const docLink = document.createElement('div');\n",
              "        docLink.innerHTML = docLinkHtml;\n",
              "        element.appendChild(docLink);\n",
              "      }\n",
              "    </script>\n",
              "  </div>\n",
              "\n",
              "\n",
              "    <div id=\"df-b42e7252-d480-474d-84c9-11da85892d0a\">\n",
              "      <button class=\"colab-df-quickchart\" onclick=\"quickchart('df-b42e7252-d480-474d-84c9-11da85892d0a')\"\n",
              "                title=\"Suggest charts\"\n",
              "                style=\"display:none;\">\n",
              "\n",
              "<svg xmlns=\"http://www.w3.org/2000/svg\" height=\"24px\"viewBox=\"0 0 24 24\"\n",
              "     width=\"24px\">\n",
              "    <g>\n",
              "        <path d=\"M19 3H5c-1.1 0-2 .9-2 2v14c0 1.1.9 2 2 2h14c1.1 0 2-.9 2-2V5c0-1.1-.9-2-2-2zM9 17H7v-7h2v7zm4 0h-2V7h2v10zm4 0h-2v-4h2v4z\"/>\n",
              "    </g>\n",
              "</svg>\n",
              "      </button>\n",
              "\n",
              "<style>\n",
              "  .colab-df-quickchart {\n",
              "      --bg-color: #E8F0FE;\n",
              "      --fill-color: #1967D2;\n",
              "      --hover-bg-color: #E2EBFA;\n",
              "      --hover-fill-color: #174EA6;\n",
              "      --disabled-fill-color: #AAA;\n",
              "      --disabled-bg-color: #DDD;\n",
              "  }\n",
              "\n",
              "  [theme=dark] .colab-df-quickchart {\n",
              "      --bg-color: #3B4455;\n",
              "      --fill-color: #D2E3FC;\n",
              "      --hover-bg-color: #434B5C;\n",
              "      --hover-fill-color: #FFFFFF;\n",
              "      --disabled-bg-color: #3B4455;\n",
              "      --disabled-fill-color: #666;\n",
              "  }\n",
              "\n",
              "  .colab-df-quickchart {\n",
              "    background-color: var(--bg-color);\n",
              "    border: none;\n",
              "    border-radius: 50%;\n",
              "    cursor: pointer;\n",
              "    display: none;\n",
              "    fill: var(--fill-color);\n",
              "    height: 32px;\n",
              "    padding: 0;\n",
              "    width: 32px;\n",
              "  }\n",
              "\n",
              "  .colab-df-quickchart:hover {\n",
              "    background-color: var(--hover-bg-color);\n",
              "    box-shadow: 0 1px 2px rgba(60, 64, 67, 0.3), 0 1px 3px 1px rgba(60, 64, 67, 0.15);\n",
              "    fill: var(--button-hover-fill-color);\n",
              "  }\n",
              "\n",
              "  .colab-df-quickchart-complete:disabled,\n",
              "  .colab-df-quickchart-complete:disabled:hover {\n",
              "    background-color: var(--disabled-bg-color);\n",
              "    fill: var(--disabled-fill-color);\n",
              "    box-shadow: none;\n",
              "  }\n",
              "\n",
              "  .colab-df-spinner {\n",
              "    border: 2px solid var(--fill-color);\n",
              "    border-color: transparent;\n",
              "    border-bottom-color: var(--fill-color);\n",
              "    animation:\n",
              "      spin 1s steps(1) infinite;\n",
              "  }\n",
              "\n",
              "  @keyframes spin {\n",
              "    0% {\n",
              "      border-color: transparent;\n",
              "      border-bottom-color: var(--fill-color);\n",
              "      border-left-color: var(--fill-color);\n",
              "    }\n",
              "    20% {\n",
              "      border-color: transparent;\n",
              "      border-left-color: var(--fill-color);\n",
              "      border-top-color: var(--fill-color);\n",
              "    }\n",
              "    30% {\n",
              "      border-color: transparent;\n",
              "      border-left-color: var(--fill-color);\n",
              "      border-top-color: var(--fill-color);\n",
              "      border-right-color: var(--fill-color);\n",
              "    }\n",
              "    40% {\n",
              "      border-color: transparent;\n",
              "      border-right-color: var(--fill-color);\n",
              "      border-top-color: var(--fill-color);\n",
              "    }\n",
              "    60% {\n",
              "      border-color: transparent;\n",
              "      border-right-color: var(--fill-color);\n",
              "    }\n",
              "    80% {\n",
              "      border-color: transparent;\n",
              "      border-right-color: var(--fill-color);\n",
              "      border-bottom-color: var(--fill-color);\n",
              "    }\n",
              "    90% {\n",
              "      border-color: transparent;\n",
              "      border-bottom-color: var(--fill-color);\n",
              "    }\n",
              "  }\n",
              "</style>\n",
              "\n",
              "      <script>\n",
              "        async function quickchart(key) {\n",
              "          const quickchartButtonEl =\n",
              "            document.querySelector('#' + key + ' button');\n",
              "          quickchartButtonEl.disabled = true;  // To prevent multiple clicks.\n",
              "          quickchartButtonEl.classList.add('colab-df-spinner');\n",
              "          try {\n",
              "            const charts = await google.colab.kernel.invokeFunction(\n",
              "                'suggestCharts', [key], {});\n",
              "          } catch (error) {\n",
              "            console.error('Error during call to suggestCharts:', error);\n",
              "          }\n",
              "          quickchartButtonEl.classList.remove('colab-df-spinner');\n",
              "          quickchartButtonEl.classList.add('colab-df-quickchart-complete');\n",
              "        }\n",
              "        (() => {\n",
              "          let quickchartButtonEl =\n",
              "            document.querySelector('#df-b42e7252-d480-474d-84c9-11da85892d0a button');\n",
              "          quickchartButtonEl.style.display =\n",
              "            google.colab.kernel.accessAllowed ? 'block' : 'none';\n",
              "        })();\n",
              "      </script>\n",
              "    </div>\n",
              "\n",
              "    </div>\n",
              "  </div>\n"
            ],
            "application/vnd.google.colaboratory.intrinsic+json": {
              "type": "dataframe",
              "summary": "{\n  \"name\": \"df\",\n  \"rows\": 8,\n  \"fields\": [\n    {\n      \"column\": \"Numero\",\n      \"properties\": {\n        \"dtype\": \"number\",\n        \"std\": 40.96356686446074,\n        \"min\": 1.0,\n        \"max\": 115.0,\n        \"num_unique_values\": 8,\n        \"samples\": [\n          57.51754385964912,\n          57.5,\n          114.0\n        ],\n        \"semantic_type\": \"\",\n        \"description\": \"\"\n      }\n    },\n    {\n      \"column\": \"Numero palabras\",\n      \"properties\": {\n        \"dtype\": \"number\",\n        \"std\": 6373.652238175872,\n        \"min\": 114.0,\n        \"max\": 17493.0,\n        \"num_unique_values\": 8,\n        \"samples\": [\n          13315.622807017544,\n          13785.5,\n          114.0\n        ],\n        \"semantic_type\": \"\",\n        \"description\": \"\"\n      }\n    },\n    {\n      \"column\": \"Numero oraciones\",\n      \"properties\": {\n        \"dtype\": \"number\",\n        \"std\": 233.62159844757124,\n        \"min\": 6.0,\n        \"max\": 654.0,\n        \"num_unique_values\": 8,\n        \"samples\": [\n          455.99122807017545,\n          458.5,\n          114.0\n        ],\n        \"semantic_type\": \"\",\n        \"description\": \"\"\n      }\n    }\n  ]\n}"
            }
          },
          "metadata": {},
          "execution_count": 14
        }
      ]
    },
    {
      "cell_type": "markdown",
      "source": [
        "Se observa que el número de oraciones tiene un mínimo de 6 oraciones, por lo\n",
        "que probablemente una minuta se haya procesado mal o se tenga el archivo PDF incorrecto."
      ],
      "metadata": {
        "id": "qA1Qp61oUIym"
      }
    },
    {
      "cell_type": "code",
      "source": [
        "# Histogramas de las variables numéricas\n",
        "df.hist(figsize=(15,15))"
      ],
      "metadata": {
        "colab": {
          "base_uri": "https://localhost:8080/",
          "height": 1000
        },
        "id": "mJJBnQMdJ9t5",
        "outputId": "4e1730e4-0181-4747-b58c-de47be2f1594"
      },
      "execution_count": null,
      "outputs": [
        {
          "output_type": "execute_result",
          "data": {
            "text/plain": [
              "array([[<Axes: title={'center': 'Numero'}>,\n",
              "        <Axes: title={'center': 'Numero palabras'}>],\n",
              "       [<Axes: title={'center': 'Numero oraciones'}>, <Axes: >]],\n",
              "      dtype=object)"
            ]
          },
          "metadata": {},
          "execution_count": 15
        },
        {
          "output_type": "display_data",
          "data": {
            "text/plain": [
              "<Figure size 1500x1500 with 4 Axes>"
            ],
            "image/png": "[encoded data removed]"
          },
          "metadata": {}
        }
      ]
    },
    {
      "cell_type": "markdown",
      "source": [
        "Los números de minutas se observan uniformemente distribuidos ya que se cuenta con un número secuencial por minuta.\n",
        "\n",
        "Los números de palabras y de oraciones presentan sesgos a la derecha, indicando que hay algunas minutas son atípicamente cortas. Se podrá analizar más a detalle lo que sucede con ellas."
      ],
      "metadata": {
        "id": "VuYicyx1ToQV"
      }
    },
    {
      "cell_type": "code",
      "source": [
        "# Boxplots para ver los cuartiles de los datos y valores atípicos\n",
        "num_cols = df.select_dtypes(include=np.number).columns.tolist()\n",
        "fig, axes = plt.subplots(2,2, figsize=(30,15))\n",
        "axes = axes.ravel()\n",
        "for col, ax in zip(df[num_cols], axes):\n",
        "  sns.boxplot(x=df[col], ax=ax)\n",
        "  ax.set(xlabel=f'{col}')"
      ],
      "metadata": {
        "colab": {
          "base_uri": "https://localhost:8080/",
          "height": 729
        },
        "id": "YnPSV7tnKJbE",
        "outputId": "69a4fae4-07c4-4eed-feac-d88e92472958"
      },
      "execution_count": null,
      "outputs": [
        {
          "output_type": "display_data",
          "data": {
            "text/plain": [
              "<Figure size 3000x1500 with 4 Axes>"
            ],
            "image/png": "[encoded data removed]"
          },
          "metadata": {}
        }
      ]
    },
    {
      "cell_type": "markdown",
      "source": [
        "No se observan muchos valores atípicos salvo el de la minuta de 6 oraciones."
      ],
      "metadata": {
        "id": "IAn0QlO_Ur3y"
      }
    },
    {
      "cell_type": "code",
      "source": [
        "# Análisis de las fechas de las minutas\n",
        "df[\"Fecha timeseries\"] = pd.to_datetime(df[\"Fecha\"], errors=\"coerce\")\n",
        "\n",
        "df[\"Mes\"] = df[\"Fecha timeseries\"].dt.to_period(\"M\").astype(str)\n",
        "df[\"Año\"] = df[\"Fecha timeseries\"].dt.to_period(\"Y\").astype(str)"
      ],
      "metadata": {
        "id": "p_C8Oo0ZVKce"
      },
      "execution_count": null,
      "outputs": []
    },
    {
      "cell_type": "code",
      "source": [
        "df[\"Mes\"].hist()"
      ],
      "metadata": {
        "colab": {
          "base_uri": "https://localhost:8080/",
          "height": 448
        },
        "id": "zarYw5p6V2Wm",
        "outputId": "f2082d99-22d4-4aff-98b6-766140261206"
      },
      "execution_count": null,
      "outputs": [
        {
          "output_type": "execute_result",
          "data": {
            "text/plain": [
              "<Axes: >"
            ]
          },
          "metadata": {},
          "execution_count": 18
        },
        {
          "output_type": "display_data",
          "data": {
            "text/plain": [
              "<Figure size 640x480 with 1 Axes>"
            ],
            "image/png": "[encoded data removed]"
          },
          "metadata": {}
        }
      ]
    },
    {
      "cell_type": "code",
      "source": [
        "df[\"Año\"].hist()"
      ],
      "metadata": {
        "colab": {
          "base_uri": "https://localhost:8080/",
          "height": 448
        },
        "id": "9hycJTTTpi9a",
        "outputId": "80aeda08-cf8f-4ced-f485-8afc56b4eb22"
      },
      "execution_count": null,
      "outputs": [
        {
          "output_type": "execute_result",
          "data": {
            "text/plain": [
              "<Axes: >"
            ]
          },
          "metadata": {},
          "execution_count": 19
        },
        {
          "output_type": "display_data",
          "data": {
            "text/plain": [
              "<Figure size 640x480 with 1 Axes>"
            ],
            "image/png": "[encoded data removed]"
          },
          "metadata": {}
        }
      ]
    },
    {
      "cell_type": "markdown",
      "source": [
        "## Análisis de variables categóricas"
      ],
      "metadata": {
        "id": "uWhL8vvGKyFa"
      }
    },
    {
      "cell_type": "code",
      "source": [
        "df.describe(include='object')"
      ],
      "metadata": {
        "colab": {
          "base_uri": "https://localhost:8080/",
          "height": 175
        },
        "id": "F6MRmk1nKvpu",
        "outputId": "1e5ff5ae-2d97-4ad4-8fbb-160a564bb7e2"
      },
      "execution_count": null,
      "outputs": [
        {
          "output_type": "execute_result",
          "data": {
            "text/plain": [
              "                                          ID       Fecha  \\\n",
              "count                                    114         105   \n",
              "unique                                   114         105   \n",
              "top     df53bdc1-88ec-276e-718c-aec8de5282b4  2024-11-14   \n",
              "freq                                       1           1   \n",
              "\n",
              "                                             Texto limpio  \\\n",
              "count                                                 114   \n",
              "unique                                                114   \n",
              "top     minuta número 112 reunión de la junta de gobie...   \n",
              "freq                                                    1   \n",
              "\n",
              "                        Palabras clave dominantes  Mes  Año  \n",
              "count                                         114  114  114  \n",
              "unique                                        110  106   16  \n",
              "top     inflación, tasa, monetaria, 2024, gráfica  NaT  NaT  \n",
              "freq                                            2    9    9  "
            ],
            "text/html": [
              "\n",
              "  <div id=\"df-d3e1ac08-3adc-4eb3-ae30-73171c254408\" class=\"colab-df-container\">\n",
              "    <div>\n",
              "<style scoped>\n",
              "    .dataframe tbody tr th:only-of-type {\n",
              "        vertical-align: middle;\n",
              "    }\n",
              "\n",
              "    .dataframe tbody tr th {\n",
              "        vertical-align: top;\n",
              "    }\n",
              "\n",
              "    .dataframe thead th {\n",
              "        text-align: right;\n",
              "    }\n",
              "</style>\n",
              "<table border=\"1\" class=\"dataframe\">\n",
              "  <thead>\n",
              "    <tr style=\"text-align: right;\">\n",
              "      <th></th>\n",
              "      <th>ID</th>\n",
              "      <th>Fecha</th>\n",
              "      <th>Texto limpio</th>\n",
              "      <th>Palabras clave dominantes</th>\n",
              "      <th>Mes</th>\n",
              "      <th>Año</th>\n",
              "    </tr>\n",
              "  </thead>\n",
              "  <tbody>\n",
              "    <tr>\n",
              "      <th>count</th>\n",
              "      <td>114</td>\n",
              "      <td>105</td>\n",
              "      <td>114</td>\n",
              "      <td>114</td>\n",
              "      <td>114</td>\n",
              "      <td>114</td>\n",
              "    </tr>\n",
              "    <tr>\n",
              "      <th>unique</th>\n",
              "      <td>114</td>\n",
              "      <td>105</td>\n",
              "      <td>114</td>\n",
              "      <td>110</td>\n",
              "      <td>106</td>\n",
              "      <td>16</td>\n",
              "    </tr>\n",
              "    <tr>\n",
              "      <th>top</th>\n",
              "      <td>df53bdc1-88ec-276e-718c-aec8de5282b4</td>\n",
              "      <td>2024-11-14</td>\n",
              "      <td>minuta número 112 reunión de la junta de gobie...</td>\n",
              "      <td>inflación, tasa, monetaria, 2024, gráfica</td>\n",
              "      <td>NaT</td>\n",
              "      <td>NaT</td>\n",
              "    </tr>\n",
              "    <tr>\n",
              "      <th>freq</th>\n",
              "      <td>1</td>\n",
              "      <td>1</td>\n",
              "      <td>1</td>\n",
              "      <td>2</td>\n",
              "      <td>9</td>\n",
              "      <td>9</td>\n",
              "    </tr>\n",
              "  </tbody>\n",
              "</table>\n",
              "</div>\n",
              "    <div class=\"colab-df-buttons\">\n",
              "\n",
              "  <div class=\"colab-df-container\">\n",
              "    <button class=\"colab-df-convert\" onclick=\"convertToInteractive('df-d3e1ac08-3adc-4eb3-ae30-73171c254408')\"\n",
              "            title=\"Convert this dataframe to an interactive table.\"\n",
              "            style=\"display:none;\">\n",
              "\n",
              "  <svg xmlns=\"http://www.w3.org/2000/svg\" height=\"24px\" viewBox=\"0 -960 960 960\">\n",
              "    <path d=\"M120-120v-720h720v720H120Zm60-500h600v-160H180v160Zm220 220h160v-160H400v160Zm0 220h160v-160H400v160ZM180-400h160v-160H180v160Zm440 0h160v-160H620v160ZM180-180h160v-160H180v160Zm440 0h160v-160H620v160Z\"/>\n",
              "  </svg>\n",
              "    </button>\n",
              "\n",
              "  <style>\n",
              "    .colab-df-container {\n",
              "      display:flex;\n",
              "      gap: 12px;\n",
              "    }\n",
              "\n",
              "    .colab-df-convert {\n",
              "      background-color: #E8F0FE;\n",
              "      border: none;\n",
              "      border-radius: 50%;\n",
              "      cursor: pointer;\n",
              "      display: none;\n",
              "      fill: #1967D2;\n",
              "      height: 32px;\n",
              "      padding: 0 0 0 0;\n",
              "      width: 32px;\n",
              "    }\n",
              "\n",
              "    .colab-df-convert:hover {\n",
              "      background-color: #E2EBFA;\n",
              "      box-shadow: 0px 1px 2px rgba(60, 64, 67, 0.3), 0px 1px 3px 1px rgba(60, 64, 67, 0.15);\n",
              "      fill: #174EA6;\n",
              "    }\n",
              "\n",
              "    .colab-df-buttons div {\n",
              "      margin-bottom: 4px;\n",
              "    }\n",
              "\n",
              "    [theme=dark] .colab-df-convert {\n",
              "      background-color: #3B4455;\n",
              "      fill: #D2E3FC;\n",
              "    }\n",
              "\n",
              "    [theme=dark] .colab-df-convert:hover {\n",
              "      background-color: #434B5C;\n",
              "      box-shadow: 0px 1px 3px 1px rgba(0, 0, 0, 0.15);\n",
              "      filter: drop-shadow(0px 1px 2px rgba(0, 0, 0, 0.3));\n",
              "      fill: #FFFFFF;\n",
              "    }\n",
              "  </style>\n",
              "\n",
              "    <script>\n",
              "      const buttonEl =\n",
              "        document.querySelector('#df-d3e1ac08-3adc-4eb3-ae30-73171c254408 button.colab-df-convert');\n",
              "      buttonEl.style.display =\n",
              "        google.colab.kernel.accessAllowed ? 'block' : 'none';\n",
              "\n",
              "      async function convertToInteractive(key) {\n",
              "        const element = document.querySelector('#df-d3e1ac08-3adc-4eb3-ae30-73171c254408');\n",
              "        const dataTable =\n",
              "          await google.colab.kernel.invokeFunction('convertToInteractive',\n",
              "                                                    [key], {});\n",
              "        if (!dataTable) return;\n",
              "\n",
              "        const docLinkHtml = 'Like what you see? Visit the ' +\n",
              "          '<a target=\"_blank\" href=https://colab.research.google.com/notebooks/data_table.ipynb>data table notebook</a>'\n",
              "          + ' to learn more about interactive tables.';\n",
              "        element.innerHTML = '';\n",
              "        dataTable['output_type'] = 'display_data';\n",
              "        await google.colab.output.renderOutput(dataTable, element);\n",
              "        const docLink = document.createElement('div');\n",
              "        docLink.innerHTML = docLinkHtml;\n",
              "        element.appendChild(docLink);\n",
              "      }\n",
              "    </script>\n",
              "  </div>\n",
              "\n",
              "\n",
              "    <div id=\"df-af3e85e0-6b5c-47ab-8026-aa9a2a47f35b\">\n",
              "      <button class=\"colab-df-quickchart\" onclick=\"quickchart('df-af3e85e0-6b5c-47ab-8026-aa9a2a47f35b')\"\n",
              "                title=\"Suggest charts\"\n",
              "                style=\"display:none;\">\n",
              "\n",
              "<svg xmlns=\"http://www.w3.org/2000/svg\" height=\"24px\"viewBox=\"0 0 24 24\"\n",
              "     width=\"24px\">\n",
              "    <g>\n",
              "        <path d=\"M19 3H5c-1.1 0-2 .9-2 2v14c0 1.1.9 2 2 2h14c1.1 0 2-.9 2-2V5c0-1.1-.9-2-2-2zM9 17H7v-7h2v7zm4 0h-2V7h2v10zm4 0h-2v-4h2v4z\"/>\n",
              "    </g>\n",
              "</svg>\n",
              "      </button>\n",
              "\n",
              "<style>\n",
              "  .colab-df-quickchart {\n",
              "      --bg-color: #E8F0FE;\n",
              "      --fill-color: #1967D2;\n",
              "      --hover-bg-color: #E2EBFA;\n",
              "      --hover-fill-color: #174EA6;\n",
              "      --disabled-fill-color: #AAA;\n",
              "      --disabled-bg-color: #DDD;\n",
              "  }\n",
              "\n",
              "  [theme=dark] .colab-df-quickchart {\n",
              "      --bg-color: #3B4455;\n",
              "      --fill-color: #D2E3FC;\n",
              "      --hover-bg-color: #434B5C;\n",
              "      --hover-fill-color: #FFFFFF;\n",
              "      --disabled-bg-color: #3B4455;\n",
              "      --disabled-fill-color: #666;\n",
              "  }\n",
              "\n",
              "  .colab-df-quickchart {\n",
              "    background-color: var(--bg-color);\n",
              "    border: none;\n",
              "    border-radius: 50%;\n",
              "    cursor: pointer;\n",
              "    display: none;\n",
              "    fill: var(--fill-color);\n",
              "    height: 32px;\n",
              "    padding: 0;\n",
              "    width: 32px;\n",
              "  }\n",
              "\n",
              "  .colab-df-quickchart:hover {\n",
              "    background-color: var(--hover-bg-color);\n",
              "    box-shadow: 0 1px 2px rgba(60, 64, 67, 0.3), 0 1px 3px 1px rgba(60, 64, 67, 0.15);\n",
              "    fill: var(--button-hover-fill-color);\n",
              "  }\n",
              "\n",
              "  .colab-df-quickchart-complete:disabled,\n",
              "  .colab-df-quickchart-complete:disabled:hover {\n",
              "    background-color: var(--disabled-bg-color);\n",
              "    fill: var(--disabled-fill-color);\n",
              "    box-shadow: none;\n",
              "  }\n",
              "\n",
              "  .colab-df-spinner {\n",
              "    border: 2px solid var(--fill-color);\n",
              "    border-color: transparent;\n",
              "    border-bottom-color: var(--fill-color);\n",
              "    animation:\n",
              "      spin 1s steps(1) infinite;\n",
              "  }\n",
              "\n",
              "  @keyframes spin {\n",
              "    0% {\n",
              "      border-color: transparent;\n",
              "      border-bottom-color: var(--fill-color);\n",
              "      border-left-color: var(--fill-color);\n",
              "    }\n",
              "    20% {\n",
              "      border-color: transparent;\n",
              "      border-left-color: var(--fill-color);\n",
              "      border-top-color: var(--fill-color);\n",
              "    }\n",
              "    30% {\n",
              "      border-color: transparent;\n",
              "      border-left-color: var(--fill-color);\n",
              "      border-top-color: var(--fill-color);\n",
              "      border-right-color: var(--fill-color);\n",
              "    }\n",
              "    40% {\n",
              "      border-color: transparent;\n",
              "      border-right-color: var(--fill-color);\n",
              "      border-top-color: var(--fill-color);\n",
              "    }\n",
              "    60% {\n",
              "      border-color: transparent;\n",
              "      border-right-color: var(--fill-color);\n",
              "    }\n",
              "    80% {\n",
              "      border-color: transparent;\n",
              "      border-right-color: var(--fill-color);\n",
              "      border-bottom-color: var(--fill-color);\n",
              "    }\n",
              "    90% {\n",
              "      border-color: transparent;\n",
              "      border-bottom-color: var(--fill-color);\n",
              "    }\n",
              "  }\n",
              "</style>\n",
              "\n",
              "      <script>\n",
              "        async function quickchart(key) {\n",
              "          const quickchartButtonEl =\n",
              "            document.querySelector('#' + key + ' button');\n",
              "          quickchartButtonEl.disabled = true;  // To prevent multiple clicks.\n",
              "          quickchartButtonEl.classList.add('colab-df-spinner');\n",
              "          try {\n",
              "            const charts = await google.colab.kernel.invokeFunction(\n",
              "                'suggestCharts', [key], {});\n",
              "          } catch (error) {\n",
              "            console.error('Error during call to suggestCharts:', error);\n",
              "          }\n",
              "          quickchartButtonEl.classList.remove('colab-df-spinner');\n",
              "          quickchartButtonEl.classList.add('colab-df-quickchart-complete');\n",
              "        }\n",
              "        (() => {\n",
              "          let quickchartButtonEl =\n",
              "            document.querySelector('#df-af3e85e0-6b5c-47ab-8026-aa9a2a47f35b button');\n",
              "          quickchartButtonEl.style.display =\n",
              "            google.colab.kernel.accessAllowed ? 'block' : 'none';\n",
              "        })();\n",
              "      </script>\n",
              "    </div>\n",
              "\n",
              "    </div>\n",
              "  </div>\n"
            ],
            "application/vnd.google.colaboratory.intrinsic+json": {
              "type": "dataframe",
              "summary": "{\n  \"name\": \"df\",\n  \"rows\": 4,\n  \"fields\": [\n    {\n      \"column\": \"ID\",\n      \"properties\": {\n        \"dtype\": \"string\",\n        \"num_unique_values\": 3,\n        \"samples\": [\n          \"114\",\n          \"df53bdc1-88ec-276e-718c-aec8de5282b4\",\n          \"1\"\n        ],\n        \"semantic_type\": \"\",\n        \"description\": \"\"\n      }\n    },\n    {\n      \"column\": \"Fecha\",\n      \"properties\": {\n        \"dtype\": \"date\",\n        \"min\": \"1970-01-01 00:00:00.000000001\",\n        \"max\": \"2024-11-14 00:00:00\",\n        \"num_unique_values\": 3,\n        \"samples\": [\n          \"105\",\n          \"2024-11-14\",\n          \"1\"\n        ],\n        \"semantic_type\": \"\",\n        \"description\": \"\"\n      }\n    },\n    {\n      \"column\": \"Texto limpio\",\n      \"properties\": {\n        \"dtype\": \"string\",\n        \"num_unique_values\": 3,\n        \"samples\": [\n          \"114\",\n          \"minuta n\\u00famero 112 reuni\\u00f3n de la junta de gobierno del banco de m\\u00e9xico con mo\\ufffdvo de la decisi\\u00f3n de pol\\u00ed\\ufffdca monetaria anunciada el 14 de noviembre de 2024   1   1 lugar fecha y asistentes     11 lugar  reuni\\u00f3n celebrada por enlaces virtuales      12 fecha de la sesi\\u00f3n de la junta de gobierno   13 de noviembre  de 2024      13 asistentes   \\u2022 victoria rodr\\u00edguez ceja gobernadora   \\u2022 galia borja g\\u00f3mez subgobernadora   \\u2022 irene espinosa cantellano subgobernadora   \\u2022 jonathan ernest heath constable subgo...\",\n          \"1\"\n        ],\n        \"semantic_type\": \"\",\n        \"description\": \"\"\n      }\n    },\n    {\n      \"column\": \"Palabras clave dominantes\",\n      \"properties\": {\n        \"dtype\": \"string\",\n        \"num_unique_values\": 4,\n        \"samples\": [\n          110,\n          \"2\",\n          \"114\"\n        ],\n        \"semantic_type\": \"\",\n        \"description\": \"\"\n      }\n    },\n    {\n      \"column\": \"Mes\",\n      \"properties\": {\n        \"dtype\": \"date\",\n        \"min\": \"1970-01-01 00:00:00.000000009\",\n        \"max\": \"1970-01-01 00:00:00.000000114\",\n        \"num_unique_values\": 4,\n        \"samples\": [\n          106,\n          \"9\",\n          \"114\"\n        ],\n        \"semantic_type\": \"\",\n        \"description\": \"\"\n      }\n    },\n    {\n      \"column\": \"A\\u00f1o\",\n      \"properties\": {\n        \"dtype\": \"date\",\n        \"min\": \"1970-01-01 00:00:00.000000009\",\n        \"max\": \"1970-01-01 00:00:00.000000114\",\n        \"num_unique_values\": 4,\n        \"samples\": [\n          16,\n          \"9\",\n          \"114\"\n        ],\n        \"semantic_type\": \"\",\n        \"description\": \"\"\n      }\n    }\n  ]\n}"
            }
          },
          "metadata": {},
          "execution_count": 20
        }
      ]
    },
    {
      "cell_type": "code",
      "source": [
        "# Clasificación mejorada basada en frases reales de las minutas\n",
        "def clasificar_decision(texto):\n",
        "    texto = texto.lower()\n",
        "\n",
        "    patrones_mantener = [\n",
        "        \"la junta decidió mantener\",\n",
        "        \"se decidió mantener\",\n",
        "        \"se mantuvo el objetivo\"\n",
        "    ]\n",
        "    patrones_subir = [\n",
        "        \"la junta decidió aumentar\",\n",
        "        \"se decidió aumentar\",\n",
        "        \"se incrementó la tasa\"\n",
        "    ]\n",
        "    patrones_bajar = [\n",
        "        \"la junta decidió reducir\",\n",
        "        \"se decidió reducir\",\n",
        "        \"se bajó la tasa\"\n",
        "    ]\n",
        "\n",
        "    for patron in patrones_mantener:\n",
        "        if patron in texto:\n",
        "            return \"mantener\"\n",
        "    for patron in patrones_subir:\n",
        "        if patron in texto:\n",
        "            return \"subir\"\n",
        "    for patron in patrones_bajar:\n",
        "        if patron in texto:\n",
        "            return \"bajar\"\n",
        "\n",
        "    return \"desconocido\"\n",
        "\n",
        "# Aplicar clasificación\n",
        "df[\"Decision\"] = df[\"Texto limpio\"].apply(clasificar_decision)\n",
        "\n",
        "# Verificar conteo\n",
        "print(\"Distribución de clases de la variable 'Decision':\")\n",
        "print(df[\"Decision\"].value_counts())\n",
        "\n",
        "# Visualizar en gráfico\n",
        "plt.figure(figsize=(8, 5))\n",
        "sns.countplot(x=\"Decision\", data=df, palette=\"Set2\")\n",
        "plt.title(\"Distribución de decisiones de política monetaria\")\n",
        "plt.xlabel(\"Decisión\")\n",
        "plt.ylabel(\"Cantidad de minutas\")\n",
        "plt.show()\n"
      ],
      "metadata": {
        "id": "Ic1Q5gphElHF",
        "outputId": "02a57c3b-43ab-445e-c598-701e49125e34",
        "colab": {
          "base_uri": "https://localhost:8080/",
          "height": 649
        }
      },
      "execution_count": null,
      "outputs": [
        {
          "output_type": "stream",
          "name": "stdout",
          "text": [
            "Distribución de clases de la variable 'Decision':\n",
            "Decision\n",
            "desconocido    114\n",
            "Name: count, dtype: int64\n"
          ]
        },
        {
          "output_type": "stream",
          "name": "stderr",
          "text": [
            "<ipython-input-67-b3d9dac5a64e>:42: FutureWarning: \n",
            "\n",
            "Passing `palette` without assigning `hue` is deprecated and will be removed in v0.14.0. Assign the `x` variable to `hue` and set `legend=False` for the same effect.\n",
            "\n",
            "  sns.countplot(x=\"Decision\", data=df, palette=\"Set2\")\n"
          ]
        },
        {
          "output_type": "display_data",
          "data": {
            "text/plain": [
              "<Figure size 800x500 with 1 Axes>"
            ],
            "image/png": "[encoded data removed]"
          },
          "metadata": {}
        }
      ]
    }
  ]
}